{
  "nbformat": 4,
  "nbformat_minor": 0,
  "metadata": {
    "colab": {
      "name": "深層学習day3.ipynb",
      "provenance": [],
      "collapsed_sections": [],
      "mount_file_id": "197QSrcPswMw2zYdgcfSc_BsmJQ4vQcvV",
      "authorship_tag": "ABX9TyOx5qcO4a7KQtOPNgfS+T51"
    },
    "kernelspec": {
      "name": "python3",
      "display_name": "Python 3"
    },
    "language_info": {
      "name": "python"
    }
  },
  "cells": [
    {
      "cell_type": "markdown",
      "metadata": {
        "id": "tKlcHVjf7Zre"
      },
      "source": [
        "***\n",
        "# 深層学習day3\n",
        "***"
      ]
    },
    {
      "cell_type": "markdown",
      "metadata": {
        "id": "-WNrUMrk7mGc"
      },
      "source": [
        "## Section1: 再帰型ニューラルネットワークの概念\n",
        "\n",
        "+ 時系列データに対応したニューラルネットワーク\n",
        "+ 時系列データ\n",
        "  + 時間的順序を追って一定間隔で観察できる\n",
        "  + 相互に統計的依存関係あり\n",
        "  + 株価データ・音声データ・テキストデータ（単語のつながり）・自然言語\n",
        "  \n",
        "**RNN**\n",
        "+ 入力層⇒中間層⇒出力層という基本構造は変わらない\n",
        "+ 時間的繋がりをうまく組み込む\n",
        "+ ある時間の中間層の出力を次の時間の入力の一部に使う\n",
        "+ 複数の中間層をまとめて表現すること理解しやすい"
      ]
    },
    {
      "cell_type": "markdown",
      "source": [
        "**順伝播**"
      ],
      "metadata": {
        "id": "0lkKTqjEUNav"
      }
    },
    {
      "cell_type": "code",
      "source": [
        "display(img)"
      ],
      "metadata": {
        "colab": {
          "base_uri": "https://localhost:8080/",
          "height": 245
        },
        "id": "ddqoKKWjGx2L",
        "outputId": "c5162560-4a5f-4df4-8094-860c5fce56d8"
      },
      "execution_count": null,
      "outputs": [
        {
          "output_type": "display_data",
          "data": {
            "image/png": "[encoded data removed]",
            "text/plain": [
              "<PIL.PngImagePlugin.PngImageFile image mode=RGB size=527x228 at 0x7FF3A62EC4D0>"
            ]
          },
          "metadata": {}
        }
      ]
    },
    {
      "cell_type": "markdown",
      "source": [
        "$$\n",
        "u^{t} = x^{t}W_{in} + z^{t-1}W  + b \\\\\n",
        "z^{t} = f( u^{t}) \\\\\n",
        "v^{t} = z^{t} W_{out}  + c \\\\\n",
        "y^{t} = g(v^{t})\n",
        "$$\n",
        "```python\n",
        "u[:, t+1] = np.dot(X, W_in) + np.dot(z[:,t].reshape(1, -1), W)\n",
        "```\n",
        "+ 2次元配列uのt+1列に値を代入\n",
        "+ XとW_inの内積を計算\n",
        "+ 2次元配列zのt列とWとの内積を計算  \n",
        "  (t列を抽出した際に1次元配列となるのでreshapeで2次元配列に変換)\n",
        "\n",
        "```python\n",
        "z[:,t+1] = functions.sigmoid(u[:,t+1])\n",
        "```\n",
        "+ 2次元配列zのt+1列に値を代入\n",
        "+ 2次元配列uのt+1列の値をシグモイド関数(f)で計算\n",
        "\n",
        "```python\n",
        "np.dot(z[:,t+1].reshape(1, -1), W_out)\n",
        "y[:,t] = functions.sigmoid(np.dot(z[:,t+1].reshape(1, -1), W_out))\n",
        "```\n",
        "+ 2次元配列yのt列に値を代入\n",
        "+ 2次元配列zのt+1列とW_outの内積を計算\n",
        "+ 計算結果をシグモイド関数(g)で計算"
      ],
      "metadata": {
        "id": "KwL3O5YHHDcC"
      }
    },
    {
      "cell_type": "markdown",
      "source": [
        "### 【確認テスト】\n",
        "RNNのネットワークには大きくわけて3つの重みがある。1つは入力から現在の中間層を定義する際にかけられる重み、1つは中間層から出力を定義する際にかけられる重みである。残り1つの重みについて説明せよ。  \n",
        "【解答】  \n",
        "過去の中間層から現在の中間層を定義する際にかけられる重み"
      ],
      "metadata": {
        "id": "ZuE7ipxzV1eH"
      }
    },
    {
      "cell_type": "code",
      "source": [
        "import numpy as np\n",
        "from common import functions\n",
        "import matplotlib.pyplot as plt\n",
        "\n",
        "\n",
        "def d_tanh(x):\n",
        "    return 1/(np.cosh(x) ** 2)\n",
        "\n",
        "# データを用意\n",
        "# 2進数の桁数\n",
        "binary_dim = 8\n",
        "# 最大値 + 1\n",
        "largest_number = pow(2, binary_dim)\n",
        "# largest_numberまで2進数を用意\n",
        "binary = np.unpackbits(np.array([range(largest_number)],dtype=np.uint8).T,axis=1)\n",
        "\n",
        "input_layer_size = 2\n",
        "hidden_layer_size = 16\n",
        "output_layer_size = 1\n",
        "\n",
        "weight_init_std = 1\n",
        "learning_rate = 0.1\n",
        "\n",
        "iters_num = 10000\n",
        "plot_interval = 100\n",
        "\n",
        "# ウェイト初期化 (バイアスは簡単のため省略)\n",
        "W_in = weight_init_std * np.random.randn(input_layer_size, hidden_layer_size)\n",
        "W_out = weight_init_std * np.random.randn(hidden_layer_size, output_layer_size)\n",
        "W = weight_init_std * np.random.randn(hidden_layer_size, hidden_layer_size)\n",
        "\n",
        "# 勾配\n",
        "W_in_grad = np.zeros_like(W_in)\n",
        "W_out_grad = np.zeros_like(W_out)\n",
        "W_grad = np.zeros_like(W)\n",
        "\n",
        "u = np.zeros((hidden_layer_size, binary_dim + 1))\n",
        "z = np.zeros((hidden_layer_size, binary_dim + 1))\n",
        "y = np.zeros((output_layer_size, binary_dim))\n",
        "\n",
        "delta_out = np.zeros((output_layer_size, binary_dim))\n",
        "delta = np.zeros((hidden_layer_size, binary_dim + 1))\n",
        "\n",
        "all_losses = []\n",
        "\n",
        "for i in range(iters_num):\n",
        "    \n",
        "    # A, B初期化 (a + b = d)\n",
        "    a_int = np.random.randint(largest_number/2)\n",
        "    a_bin = binary[a_int] # binary encoding\n",
        "    b_int = np.random.randint(largest_number/2)\n",
        "    b_bin = binary[b_int] # binary encoding\n",
        "    \n",
        "    # 正解データ\n",
        "    d_int = a_int + b_int\n",
        "    d_bin = binary[d_int]\n",
        "    \n",
        "    # 出力バイナリ\n",
        "    out_bin = np.zeros_like(d_bin)\n",
        "    \n",
        "    # 時系列全体の誤差\n",
        "    all_loss = 0    \n",
        "\n",
        "    # 時系列ループ\n",
        "    for t in range(binary_dim):\n",
        "        # 入力値\n",
        "        X = np.array([a_bin[ - t - 1], b_bin[ - t - 1]]).reshape(1, -1)\n",
        "        # 時刻tにおける正解データ\n",
        "        dd = np.array([d_bin[binary_dim - t - 1]])\n",
        "        \n",
        "        u[:,t+1] = np.dot(X, W_in) + np.dot(z[:,t].reshape(1, -1), W)\n",
        "        z[:,t+1] = functions.sigmoid(u[:,t+1])\n",
        "        y[:,t] = functions.sigmoid(np.dot(z[:,t+1].reshape(1, -1), W_out))\n",
        "\n",
        "        #誤差\n",
        "        loss = functions.mean_squared_error(dd, y[:,t])\n",
        "        \n",
        "        delta_out[:,t] = functions.d_mean_squared_error(dd, y[:,t]) * functions.d_sigmoid(y[:,t])        \n",
        "        \n",
        "        all_loss += loss\n",
        "\n",
        "        out_bin[binary_dim - t - 1] = np.round(y[:,t])\n",
        "    \n",
        "    \n",
        "    for t in range(binary_dim)[::-1]:\n",
        "        X = np.array([a_bin[-t-1],b_bin[-t-1]]).reshape(1, -1)        \n",
        "\n",
        "        delta[:,t] = (np.dot(delta[:,t+1].T, W.T) + np.dot(delta_out[:,t].T, W_out.T)) * functions.d_sigmoid(u[:,t+1])\n",
        "\n",
        "        # 勾配更新\n",
        "        W_out_grad += np.dot(z[:,t+1].reshape(-1,1), delta_out[:,t].reshape(-1,1))\n",
        "        W_grad += np.dot(z[:,t].reshape(-1,1), delta[:,t].reshape(1,-1))\n",
        "        W_in_grad += np.dot(X.T, delta[:,t].reshape(1,-1))\n",
        "    \n",
        "    # 勾配適用\n",
        "    W_in -= learning_rate * W_in_grad\n",
        "    W_out -= learning_rate * W_out_grad\n",
        "    W -= learning_rate * W_grad\n",
        "    \n",
        "    W_in_grad *= 0\n",
        "    W_out_grad *= 0\n",
        "    W_grad *= 0\n",
        "    \n",
        "\n",
        "    if(i % plot_interval == 0):\n",
        "        all_losses.append(all_loss)        \n",
        "        #print(\"iters:\" + str(i))\n",
        "        #print(\"Loss:\" + str(all_loss))\n",
        "        #print(\"Pred:\" + str(out_bin))\n",
        "        #print(\"True:\" + str(d_bin))\n",
        "        #out_int = 0\n",
        "        #for index,x in enumerate(reversed(out_bin)):\n",
        "        #    out_int += x * pow(2, index)\n",
        "        #print(str(a_int) + \" + \" + str(b_int) + \" = \" + str(out_int))\n",
        "        #print(\"------------\")\n",
        "\n",
        "lists = range(0, iters_num, plot_interval)\n",
        "plt.plot(lists, all_losses, label=\"loss\")\n",
        "plt.show()\n"
      ],
      "metadata": {
        "colab": {
          "base_uri": "https://localhost:8080/",
          "height": 265
        },
        "id": "1qx_0hFImPwU",
        "outputId": "0e38f11b-273c-4363-e124-8a724508b8a5"
      },
      "execution_count": null,
      "outputs": [
        {
          "output_type": "display_data",
          "data": {
            "image/png": "[encoded data removed]",
            "text/plain": [
              "<Figure size 432x288 with 1 Axes>"
            ]
          },
          "metadata": {
            "needs_background": "light"
          }
        }
      ]
    },
    {
      "cell_type": "markdown",
      "source": [
        "【ソースコード分析】\n",
        "+ 8桁の2進数を対象する\n",
        "+ 10進数での表現できる値は2^8よりも小さい値(256-1=255)\n",
        "+ binary: 0～255までの整数を値ごとのビット配列に変換した2次元配列\n",
        "    + numpy.unpackbits関数  \n",
        "    配列の符号なし整数の値を2進数に変換し各桁を要素とする配列を返す\n",
        "+ 各種パラメータ\n",
        "    + 入力層のノード: 2，隠れ層のノード: 16，出力層のノード: 1\n",
        "    + 重み初期化の標準偏差: 1，学習率: 0.1，イテレーション数: 10000\n",
        "+ 各重み配列初期化（確率分布は正規分布）\n",
        "    + W_in: (2, 16), W_out: (16, 1), W: (16, 16)\n",
        "+ 勾配計算結果用配列の生成\n",
        "    + numpy.zeros_like関数  \n",
        "    引数で渡した配列のshapeとdtypeを継承した各要素値0の配列を返す\n",
        "    + W_in_grad: (2, 16), W_out_grad: (16, 1), W_grad: (16, 16)\n",
        "+ 順伝播処理用配列の生成\n",
        "    + u: (16, 9), z: (16, 9), y: (1, 8)\n",
        "    zは次の桁へ渡す値があるので1列多い．uはzとインデックスを揃えるため1列多い\n",
        "  \n",
        "+ 逆伝播処理用配列の生成\n",
        "    + delta_out: (1, 8) 出力層の勾配の一部計算結果\n",
        "    + delta: (16, 9) 中間層の勾配の一部計算結果\n",
        "+ 誤差を保持するリストを生成\n",
        "    + all_losses\n",
        "+ 学習\n",
        "    + 2数をランダム生成しビット配列に\n",
        "    + 2数の和をとり正解データビット配列を生成\n",
        "    + 演算出力用のビット配列を0初期化\n",
        "    + all_loss: 誤差計算結果保持用変数\n",
        "      \n",
        "    + 2数の桁ごとの演算処理(8桁分のループ)  \n",
        "    処理はビット配列の1桁目から8桁目の順（配列インデックスの降順）に実施\n",
        "        + X: 2数から処理する桁のビット値を抽出しサイズ(1, 2)の配列を生成\n",
        "        + dd: 正解データの対応する桁のビット値を保持\n",
        "        + u[:,t+1]: 中間層への入力演算結果(16, 1)を代入\n",
        "        + z[:,t+1]: 中間層からの出力演算結果(16, 1)を代入\n",
        "        + y[:,t]: 出力層での演算結果値を代入\n",
        "          \n",
        "        + loss: 予測値と正解データとの誤差を保持\n",
        "        + delta_out[:,t]: 逆伝播処理用の勾配用計算値を代入\n",
        "        + out_bin: 予測結果のビット値を0,1変換して代入  \n",
        "          \n",
        "    + 逆伝播処理  \n",
        "    順伝播と逆方向の処理となるからビット配列の8桁目から1桁目に向かって処理する\n",
        "      + X: 2数から処理する桁のビット値を抽出しサイズ(1, 2)の配列を生成\n",
        "      + delta[:,t]: 順伝播で生成したdelta_out[:,t]とW_outとの内積と時間的に1つ先であるdelta[:,t+1]とWとの内積の和に活性化関数の勾配をかけたもの(16,1)を代入\n",
        "      + 勾配の更新:　全時間に関数値の累計をとる\n",
        "        + W_out_grad: z[:,t+1]とdelta_out[:,t]との内積を加算\n",
        "        + W_grad: z[:,t]とdelta[:,t]との内積を加算\n",
        "        + W_in_grad: Xとdelta[:,t]との内積を加算\n",
        "    + 重みの更新: 逆伝播のループ後の勾配データに学習率をかけた値を減算\n",
        "    + 勾配の初期化\n",
        "  "
      ],
      "metadata": {
        "id": "H_mzG1sKRKC7"
      }
    },
    {
      "cell_type": "markdown",
      "source": [
        "### 【演習チャレンジ】\n",
        "以下は再帰型ニューラルネットワークにおいて構文木を入力として再帰的に文全体の表現ベクトルを得るプログラムである。ただし、ニューラルネットワークの重みパラメータはグローバル変数として定義してあるものとし、_activation関数はなんらかの活性化関数であるとする。木構造は再帰的な辞書で定義してあり、rootが最も外側の辞書であると仮定する。  \n",
        "【解答】  \n",
        "ベクトルの要素は単語を表すので，単語（要素）の特徴が保持され続ける必要があるよって，  \n",
        "（2）W.dot(np.concatenate([left, right]))  \n",
        "この処理により要素数は増加するが，重みのサイズを調整することで要素数を調整できる"
      ],
      "metadata": {
        "id": "LnKHBmmzHJFN"
      }
    },
    {
      "cell_type": "markdown",
      "source": [
        "**BPTT**\n",
        "\n",
        "$$\n",
        "u^{t} = x^{t}W_{in} +z^{t-1} W  + b \\\\\n",
        "z^{t} = f( u^{t}) \\\\\n",
        "v^{t} =  z^{t} W_{out} + c \\\\\n",
        "y^{t} = g(v^{t})\n",
        "$$\n",
        "\n",
        "各変数偏微分(f, g はシグモイド関数)\n",
        "$$\n",
        "E = \\frac{1}{2}(y^{t} - d^{t})^2 ~~,~~\n",
        "\\frac{\\partial E}{\\partial y^{t}} = y^{t} - d^{t} ~~,~~\n",
        "\\frac{\\partial y^{t}}{\\partial v^{t}} = g(v^{t})\\{1-g(v^{t})\\}\\\\\n",
        "\\frac{\\partial v^{t}}{\\partial z^{t}} = W_{out} ~~, ~~\n",
        "\\frac{\\partial v^{t}}{\\partial W_{out}} = z^{t} ~~,~~\n",
        "\\frac{\\partial v^{t}}{\\partial c} = 1 ~~, ~~\n",
        "\\frac{\\partial z^{t}}{\\partial u^{t}} = f(u^{t})\\{1-f(u^{t})\\} \\\\\n",
        "\\frac{\\partial u^{t}}{\\partial x^{t}} = W_{in} ~~,~~\n",
        "\\frac{\\partial u^{t}}{\\partial W_{in}} = x^{t} ~~,~~\n",
        "\\frac{\\partial u^{t}}{\\partial z^{t-1}} = W ~~,~~\n",
        "\\frac{\\partial u^{t}}{\\partial W} = z^{t-1} ~~,~~\n",
        "\\frac{\\partial u^{t}}{\\partial b} = 1\n",
        "$$\n",
        "ここで，\n",
        "$$\n",
        "\\delta_{out}^{t} \\equiv \\frac{\\partial E}{\\partial v^{t}} ~~,~~ \n",
        "\\delta^{t} \\equiv \\frac{\\partial E}{\\partial u^{t}}\n",
        "$$\n",
        "とすると，\n",
        "$$\n",
        "\\frac{\\partial E}{\\partial W_{out}} =\\frac{\\partial E}{\\partial v^{t}}\\frac{\\partial v^{t}}{\\partial W_{out}} = \\delta_{out}^{t} z^{t} ~~,~~\n",
        "\\frac{\\partial E}{\\partial W} =\\frac{\\partial E}{\\partial v^{t}}\\frac{\\partial v^{t}}{\\partial W} = \\delta_{out}^{t} z^{t-1} \\\\\n",
        "\\frac{\\partial E}{\\partial W_{in}} =\\frac{\\partial E}{\\partial u^{t}}\\frac{\\partial u^{t}}{\\partial W_{in}} = \\delta^{t} x^{t} \\\\\n",
        "\\frac{\\partial E}{\\partial b} = \\frac{\\partial E}{\\partial u^{t}}\\frac{\\partial u^{t}}{\\partial b} = \\delta^{t} ~~, ~~ \n",
        "\\frac{\\partial E}{\\partial c} = \\frac{\\partial E}{\\partial v^{t}}\\frac{\\partial v^{t}}{\\partial c} = \\delta_{out}^{t}\n",
        "$$"
      ],
      "metadata": {
        "id": "H9Pg4eothkLq"
      }
    },
    {
      "cell_type": "markdown",
      "source": [
        "δとzについて，計算の経路が1つの場合，\n",
        "$$\n",
        "\\delta^{t} = \\frac{\\partial E}{\\partial u^{t}} ~~, ~~z^{t} = f( u^{t})\n",
        "$$\n",
        "から，t=t-1とて，連鎖律を適用すると\n",
        "$$\n",
        "\\delta^{t-1} = \\frac{\\partial E}{\\partial u^{t-1}}=\n",
        "  \\frac{\\partial E}{\\partial u^{t}}\\frac{\\partial u^{t}}{\\partial u^{t-1}}= \\frac{\\partial E}{\\partial u^{t}}\\frac{\\partial u^{t}}{\\partial z^{t-1}}\\frac{\\partial z^{t-1}}{\\partial u^{t-1}}\\\\\n",
        "z^{t-1} = f( u^{t-1})\n",
        "$$\n",
        "と表すことができる．ここで，\n",
        "$$\n",
        "u^{t} = x^{t}W_{in} +z^{t-1} W  + b \n",
        "$$\n",
        "より，\n",
        "$$\n",
        "\\frac{\\partial u^{t}}{\\partial z^{t-1}} = W\n",
        "$$\n",
        "また，\n",
        "$$\n",
        "\\frac{\\partial z^{t-1}}{\\partial u^{t-1}} = f'( u^{t-1})\n",
        "$$\n",
        "であるから，\n",
        "$$\n",
        "\\delta^{t-1}= \\frac{\\partial E}{\\partial u^{t}}\\frac{\\partial u^{t}}{\\partial z^{t-1}}\\frac{\\partial z^{t-1}}{\\partial u^{t-1}} = \\delta^{t}\\{Wf'(u^{t-1})\\}\n",
        "$$\n",
        "さらに拡張して，t=t-zとおくと\n",
        "$$\n",
        "\\delta^{t-z -1}= \\delta^{t-z}\\{Wf'(u^{t-z-1})\\}\n",
        "$$\n",
        "と表すことができる．    \n",
        "  \n",
        "\n",
        "また，計算経路に分岐がある場合は，\n",
        "$$\n",
        "\\begin{eqnarray}\n",
        "\\delta^{t-1} &=& \\frac{\\partial E}{\\partial u^{t-1}} = \\frac{\\partial E}{\\partial z^{t-1}} \\frac{\\partial z^{t-1}}{\\partial u^{t-1}} \\\\\n",
        "&=& \\left\\{ \\frac{\\partial E}{\\partial v^{t-1}}\\frac{\\partial v^{t-1}}{\\partial z^{t-1}} + \n",
        "\\frac{\\partial E}{\\partial u^{t}}\\frac{\\partial u^{t}}{\\partial z^{t-1}}\n",
        "\\right\\}\\frac{\\partial z^{t-1}}{\\partial u^{t-1}} \\\\\n",
        "&=& \\left( \\delta_{out}^{t-1} W_{out} + \\delta^{t} W \\right)f'(u^{t-1})\n",
        "\\end{eqnarray} \n",
        "$$\n",
        "と表すことができる．\n"
      ],
      "metadata": {
        "id": "fubi8-Vp1L6t"
      }
    },
    {
      "cell_type": "markdown",
      "source": [
        "**重みの更新**  \n",
        "+ W_outとcは計算グラフの経路に分岐がないので，基本的なニューラルネットワークと同じ\n",
        "$$\n",
        "  W_{out}^{t+1} =  W_{out}^{t} - \\epsilon \\delta_{out}^{t}[z^{t}]^T \\\\\n",
        "  c^{t+1} = c^{t} - \\epsilon \\delta_{out}^{t}\n",
        "$$\n",
        "+ W_inとWとbは計算グラフの経路に時間的な接続があるので過去の勾配も加える必要がある\n",
        "$$\n",
        "W_{in}^{t+1} = W_{in}^{t} - \\epsilon \\sum_{z=0}^{\\tau}\\delta^{t-z}[x^{t-z}]^T \\\\\n",
        "W^{t+1} = W^{t} - \\epsilon \\sum_{z=0}^{\\tau}\\delta^{t-z}[z^{t-z-1}]^T \\\\\n",
        "b^{t+1} = b^{t} - \\epsilon \\sum_{z=0}^{\\tau}\\delta^{t-z}\n",
        "$$"
      ],
      "metadata": {
        "id": "_LXJ34VSBjWR"
      }
    },
    {
      "cell_type": "markdown",
      "source": [
        "### 【確認テスト】\n",
        "下図のy1をx・s0・s1・Win・W・Woutを用いて数式で表せ。  \n",
        "※バイアスは任意の文字で定義せよ。  \n",
        "※また中間層の出力にシグモイド関数g(x)を作用させよ。\n",
        "\n",
        "$$\n",
        "s^{(1)} = x^{(1)} W_{in}  + s^{(0)} W  + b \\\\\n",
        "y^{(1)} = g \\left(s^{(1)} W_{out}  + c \\right)\n",
        "$$"
      ],
      "metadata": {
        "id": "ARt622s5hoGr"
      }
    },
    {
      "cell_type": "markdown",
      "source": [
        "###【コード演習問題】\n",
        "BPTTを行うプログラムである。なお簡単化のため活性化関数は恒等関数であるとする。また、calculate_dout関数は損失関数を出力に関して偏微分した値を返す関数であるとする。？にあてはまるのはどれか\n",
        "```python\n",
        "for t in reversed(range(n_seq)):\n",
        "  dV += np.dot(do[:, t].T, hiddens[:, t]) / batch_size\n",
        "  delta_t = do[:, t].dot(V)\n",
        "\n",
        "  for bptt_step in reversed(range(t+1)):\n",
        "    dW += np.dot(delta_t.T, xs[:, bptt_step]) / batch_size\n",
        "    dU += np.dot(delta_t.T, hiddens[:, bptt_stap-1]) / batch_size\n",
        "    delta_t = ?????????????????????\n",
        "return dW, dU, dV\n",
        "```\n",
        "【解答】  \n",
        "講義のサンプルコードと比較すると\n",
        "dWがW_in_grad相当，dUがW_grad相当，dVがW_out_grad相当  \n",
        "delta_tはdelta相当  \n",
        "ここで活性化関数を恒等関数とすると\n",
        "$$\n",
        "\\delta^{t-1}= \\frac{\\partial E}{\\partial u^{t}}\\frac{\\partial u^{t}}{\\partial z^{t-1}}\\frac{\\partial z^{t-1}}{\\partial u^{t-1}} = \\delta^{t} W \\cdot 1\n",
        "$$\n",
        "よってW相当のUを使って\n",
        "```python\n",
        "delta_t.dot(U)\n",
        "```"
      ],
      "metadata": {
        "id": "CidFTHDwcDLs"
      }
    },
    {
      "cell_type": "markdown",
      "source": [
        "【参考文献】\n",
        "1. 岡谷貴之著『深層学習』講談社　2015.04\n",
        "2. 斎藤康毅著『セロから作るDeepLearning2 自然言語処理編』オライリー・ジャパン 2018.07\n",
        "3. 巣籠悠輔著『詳解ディープラーニング 第2版』マイナビ出版 2019.11\n",
        "4. 竹縄知之 東京海洋大学大学院講義科目「深層学習」Part4 http://www2.kaiyodai.ac.jp/~takenawa/learning/lecture_Part4.pdf\n",
        "5. RNN モデルを Python で実装して簡単な数列を解かせてみた。 https://qiita.com/MomonekoView/items/ad2cff722a07825eedd7\n",
        "6. 再帰型ニューラルネット in 機械学習プロフェッショナルシリーズ輪読会 https://www.slideshare.net/shotarosano5/chapter7-50542830"
      ],
      "metadata": {
        "id": "RCMjH3NgUdtj"
      }
    },
    {
      "cell_type": "markdown",
      "metadata": {
        "id": "Kxk2OQt_7vFT"
      },
      "source": [
        "## Section2: LSTM\n",
        "+ RNNの問題：時系列を遡ると勾配が消失する⇒LSTM\n",
        "+ 勾配爆発: 層を逆伝播するほどに指数関数的に勾配が増加⇒クリッピング\n",
        "+ 勾配の時間変化が1であれば消失も爆発もしない⇒CEC\n",
        "\n",
        "### 【演習チャレンジ】\n",
        "RNNや深いモデルでは勾配の消失または爆発が起こる傾向がある。勾配爆発を防ぐために勾配のクリッピングを行うという手法がある。具体的には勾配のノルムがしきい値を超えたら、勾配のノルムをしきい値に正規化するというものである。以下は勾配のクリッピングを行う関数である。？にあてはまるのはどれか。\n",
        "```python\n",
        "def gradient_clipping(grad, threshold):\n",
        "  norm = np.linalg.norm(grad)\n",
        "  rate = threshold / norm\n",
        "  if rate < 1:\n",
        "    return ????????????\n",
        "  return grad\n",
        "```\n",
        "+ numpy.linalg.norm関数  \n",
        "  引数のベクトルのノルムを返す（デフォルトはL2ノルム）  \n",
        "\n",
        "【解答】  \n",
        "クリッピングは勾配ベクトルのノルムがある閾値を超えた場合に閾値で正規化するので，  正規化項はrate = threshold / norm　だから\n",
        "```python\n",
        "grad * rate\n",
        "```"
      ]
    },
    {
      "cell_type": "markdown",
      "source": [
        "+ CEC(Constant Error Carousel)  \n",
        "  + RNNでは中間層で学習し，結果を記憶する\n",
        "  + 学習と記憶を分離させCECでは記憶を担当\n",
        "  + 1より小さい勾配によって勾配消失が発生\n",
        "  + 1より大きい勾配によって勾配爆発が発生\n",
        "  + 勾配1で学習できるように調整する機能を別に用意\n",
        "+ 入力ゲート・出力ゲート・忘却ゲート\n",
        "  + 今回の入力値と前回の出力値が制御パラメータ\n",
        "  + 入力ゲート：過去の記憶をどのように再帰に利用するかを制御\n",
        "  + 出力ゲート：現在の記憶をどのように出力に利用するかを制御\n",
        "  + 忘却ゲート：記憶(CEC)の消去を制御する\n",
        "+ 覗き穴結合\n",
        "  + 記憶だけに利用しているCECの値を学習に利用\n",
        "    + 入力ゲート・忘却ゲートには過去の値を伝達\n",
        "    + 出力ゲートには現在の値を伝達"
      ],
      "metadata": {
        "id": "UNeX82oFHJho"
      }
    },
    {
      "cell_type": "markdown",
      "source": [
        "### 【確認テスト】\n",
        "以下の文章をLSTMに入力し空欄に当てはまる単語を予測したいとする。文中の「とても」という言葉は空欄の予測においてなくなっても影響を及ぼさないと考えられる。このような場合、どのゲートが作用すると考えられるか。  \n",
        "<br>\n",
        "「映画おもしろかったね。ところで、とてもお腹が空いたから何か____。」\n",
        "\n",
        "【解答】  \n",
        "学習に必要としない情報は消去する⇒忘却ゲート"
      ],
      "metadata": {
        "id": "kMz5c_gTM9IN"
      }
    },
    {
      "cell_type": "markdown",
      "source": [
        "### 【演習チャレンジ】\n",
        "以下のプログラムはLSTMの順伝播を行うプログラムである。ただし_sigmoid関数は要素ごとにシグモイド関数を作用させる関数である。？にあてはまるのはどれか。\n",
        "```python\n",
        "def lstm(x, prev_h, prev_c, W, U, b):\n",
        "  lstm_in = _activation(x.dot(W.T) + prev_h.dot(U.T) + b)\n",
        "  a, i, f, o = np.hsplit(lstm_in, 4)\n",
        "\n",
        "  a = np.tanh(a)\n",
        "  input_gate = _sigmoid(i)\n",
        "  forget_gate = _sigmoid(f)\n",
        "  output_gete = _sigmoid(o)\n",
        "\n",
        "  c = ??????????????????????\n",
        "  h = output_gate * np.tanh(c)\n",
        "\n",
        "  return c, h\n",
        "```\n",
        "【解答】  \n",
        "hの定義式よりcは出力に向かう活性化関数の引数であるから，CECからの出力\n",
        "$$\n",
        "c(t) = i(t)a(t)+f(t)c(t-1)\n",
        "$$\n",
        "より，\n",
        "```python\n",
        "input_gate * a + forget_gate * c\n",
        "```"
      ],
      "metadata": {
        "id": "3YvfrElQOF9P"
      }
    },
    {
      "cell_type": "markdown",
      "metadata": {
        "id": "ft9MV0737zuD"
      },
      "source": [
        "## Section3: GRU \n",
        "+ LSTMはパラメータ数が多く計算負荷が大⇒パラメータ数を削減\n",
        "+ リセットゲート・更新ゲート\n",
        "  + 今回の入力値と前回の出力値がパラメータ\n",
        "  + CECとCEC出力の活性化処理がない\n",
        "  + 出力には前回の出力zと今回の入力(1-z)との比率の合計が1になる\n",
        "\n"
      ]
    },
    {
      "cell_type": "markdown",
      "source": [
        "### 【確認テスト】\n",
        "LSTMとCECが抱える課題について、それぞれ簡潔に述べよ。  \n",
        "【解答】  \n",
        "LSTMはパラメータ数が多く計算負荷が大きい．  \n",
        "CECには学習能力がないので別に学習機能を設ける必要がある  \n",
        "⇒入力ゲート・出力ゲート・忘却ゲート  \n",
        "\n"
      ],
      "metadata": {
        "id": "g1fbW-wwa2ej"
      }
    },
    {
      "cell_type": "markdown",
      "source": [
        "### 【演習チャレンジ】\n",
        "GRU(Gated Recurrent Unit)もLSTMと同様にRNNの一種であり、単純なRNNにおいて問題となる勾配消失問題を解決し、長期的な依存関係を学習することができる。LSTMに比べ変数の数やゲートの数が少なく、より単純なモデルであるが、タスクによってはLSTMより良い性能を発揮する。以下のプログラムはGRUの順伝播を行うプログラムである。ただし_sigmoid関数は要素ごとにシグモイド関数を作用させる関数である。？にあてはまるのはどれか。\n",
        "```python\n",
        "def gru(x, h, W_r, U_r, W_z, U_z, W, U):\n",
        "  r = _sigmoid(x.dot(W_r.T) + h.dot(U_r.T))\n",
        "  z = _sigmoid(x.dot(W_z.T) + h.dot(U_z.T))\n",
        "\n",
        "  h_bar = np.tanh(x.dot(W.T) + (r*h).dot(U.T))\n",
        "  h_new = ?????????????????????????\n",
        "  return h_new\n",
        "```\n",
        "【解答】  \n",
        "関数の戻り値がh_newであるからh_newはGRUの出力となる．  \n",
        "出力は今回の入力からの演算h_barと前回の出力hが(1-z)とzの比率で足し合わされる．\n",
        "```python\n",
        "(1 - z) * h_bar + z * h\n",
        "```\n",
        "**※ 原著論文を確認したところ論文と本講義資料では(1-z)とzが逆であった**\n"
      ],
      "metadata": {
        "id": "2lbvQ85YatjI"
      }
    },
    {
      "cell_type": "markdown",
      "source": [
        "### 【確認テスト】\n",
        "LSTMとGRUの違いを簡潔に述べよ。  \n",
        "【解答】  \n",
        "+ LSTMは計算結果を記憶するCECと学習処理を制御する入力ゲート・出力ゲート・忘却ゲートから構成されている\n",
        "+ GRUには計算結果を記憶する部分はなく，学習処理を制御するリセットゲートと更新ゲートで構成されている\n",
        "+ GRUの方が構成要素が少ないのでパラメータ数が少なく計算負荷が少ない"
      ],
      "metadata": {
        "id": "s99vAiznanRB"
      }
    },
    {
      "cell_type": "markdown",
      "source": [
        "【参考文献】\n",
        "1. 岡谷貴之著『深層学習』講談社　2015.04\n",
        "2. 斎藤康毅著『セロから作るDeepLearning2 自然言語処理編』オライリー・ジャパン 2018.07\n",
        "3. 巣籠悠輔著『詳解ディープラーニング 第2版』マイナビ出版 2019.11\n",
        "4. 竹縄知之 東京海洋大学大学院講義科目「深層学習」Part4 http://www2.kaiyodai.ac.jp/~takenawa/learning/lecture_Part4.pdf\n",
        "5. Cho et al. 2014. Learning Phrase Representations using RNN Encoder–Decoder for Statistical Machine Translation. In Proceedings of the 2014 Conference on Empirical Methods in Natural Language Processing, pages 1724–1734. "
      ],
      "metadata": {
        "id": "OO-EUpB8Qx-9"
      }
    },
    {
      "cell_type": "markdown",
      "metadata": {
        "id": "Gt_jL2WA73Zz"
      },
      "source": [
        "## Section4: 双方向RNN\n",
        "+ 過去の情報だけでなく，未来の情報も利用したRNN\n",
        "+ 文章の翻訳などに利用\n",
        "+ 事前に先の文章も判っている\n",
        "+ 過去から未来へのRNNと未来から過去へのRNNを組み合わせる\n",
        "\n"
      ]
    },
    {
      "cell_type": "markdown",
      "source": [
        "### 【演習チャレンジ】\n",
        "以下は双方向RNNの順伝播を行うプログラムである。順方向については、入力から中間層への重みW_f, 一ステップ前の中間層出力から中間層への重みをU_f、逆方向に関しては同様にパラメータW_b, U_bを持ち、両者の中間層表現を合わせた特徴から出力層への重みはVである。_rnn関数はRNNの順伝播を表し中間層の系列を返す関数であるとする。？にあてはまるのはどれか\n",
        "```python\n",
        "def budurectuibak_rnn_net(xs, W_f, U_f, Wb, U_b, V):\n",
        "  xs_f = np.zeros_like(xs)\n",
        "  xs_b = bo,zeris_like(xs)\n",
        "\n",
        "  for i, x in enumerate(xs):\n",
        "    xs_f[i] = x\n",
        "    xs_b[i] = x[::-1]\n",
        "  \n",
        "  hs_f = _rnn(xs_f, W_f, U_f)\n",
        "  hs_b = _rnn(xs_b, W_b, U_b)\n",
        "  hs = [ ??????????????????? for h_f, h_b in zip(hs_f, hs_b)]\n",
        "  ys = hs.dot(V.T)\n",
        "  return ys\n",
        "```\n",
        "【解答】  \n",
        "関数内のループ処理では過去→未来の時系列データと未来→過去の時系列データを生成している  \n",
        "hs_fは過去→未来の時系列データのRNN処理結果を保持\n",
        "hs_bは未来→過去の時系列データのRNN処理結果を保持\n",
        "出力演算に渡す時系列データは過去→未来と未来→過去の2つを結合したものになるが，未来→過去の時系列データは逆順になっているので再度逆順にして元に戻す．  \n",
        "2つの時系列データを時刻ごとに結合する必要があるので，列方向でconcatenate関数を使う  \n",
        "```python\n",
        "np.concatenate([h_f, h_b[::-1]], axis=1)\n",
        "```"
      ],
      "metadata": {
        "id": "cLD1sRAOa8bd"
      }
    },
    {
      "cell_type": "markdown",
      "source": [
        "【参考文献】\n",
        "1. 斎藤康毅著『セロから作るDeepLearning2 自然言語処理編』オライリー・ジャパン 2018.07\n",
        "2. 巣籠悠輔著『詳解ディープラーニング 第2版』マイナビ出版 2019.11"
      ],
      "metadata": {
        "id": "UW5Y1-6Qg22f"
      }
    },
    {
      "cell_type": "markdown",
      "metadata": {
        "id": "LqGYf-BO763j"
      },
      "source": [
        "## Section5: Seq2Seq\n",
        "+ 機械翻訳で利用されている\n",
        "+ 2つのRNNから構成されている\n",
        "  + 単語列をRNNに入力すると学習結果が蓄積される→文の意味を抽出：エンコーダ\n",
        "  + 文の意味を入力して翻訳結果を出力：デコーダ\n",
        "+ エンコーダRNN：文の意味を集約\n",
        "  + 全単語を入力し終わると隠れ層に文全体の意味がベクトルとして保持される\n",
        "  + 各単語にIDを付番し，one-hotベクトルで表現\n",
        "  + embedding表現で次元削減\n",
        "  + MLM(Masked Language Model)：周りの単語から隠した位置に入る単語を学習する\n",
        "  + 文の中の隠す単語を変えることで学習データを増やすことができる\n",
        "+ デコーダRNN：エンコーダRNNで生成された意味ベクトルから新たな文を生成  \n",
        "　+ 意味ベクトルを元に1単語を確率的に生成\n",
        "  + その単語を元に次の単語を確率的に生成する処理の繰り返し\n",
        "\n"
      ]
    },
    {
      "cell_type": "markdown",
      "source": [
        "### 【確認テスト】\n",
        "下記の選択肢から、seq2seqについて説明しているものを選べ。  \n",
        "（1）時刻に関して順方向と逆方向のRNNを構成し、それら2つの中間層表現を特徴量として利用するものである。⇒双方向RNN  \n",
        "（2）RNNを用いたEncoder-Decoderモデルの一種であり、機械翻訳などのモデルに使われる。⇒seq2seq  \n",
        "（3）構文木などの木構造に対して、隣接単語から表現ベクトル（フレーズ）を作るという演算を再帰的に行い（重みは共通）、文全体の表現ベクトルを得るニューラルネットワークである。⇒構文木  \n",
        "（4）RNNの一種であり、単純なRNNにおいて問題となる勾配消失問題をCECとゲートの概念を導入することで解決したものである。⇒LSTM  \n"
      ],
      "metadata": {
        "id": "QDsy8mrcbIKj"
      }
    },
    {
      "cell_type": "markdown",
      "source": [
        "### 【演習チャレンジ】\n",
        "機械翻訳タスクにおいて、入力は複数の単語から成る文（文章）であり、それぞれの単語はone-hotベクトルで表現されている。Encoderにおいて、それらの単語は単語埋め込みにより特徴量に変換され、そこからRNNによって（一般にはLSTMを使うことが多い）時系列の情報をもつ特徴へとエンコードされる。以下は、入力である文（文章）を時系列の情報をもつ特徴量へとエンコードする関数である。ただし_activation関数はなんらかの活性化関数を表すとする。？にあてはまるのはどれか。\n",
        "```python\n",
        "def encode(words, E, W, U, b):\n",
        "  hidden_size = W.shape[0]\n",
        "  h = np.zeors(hidden_size)\n",
        "  for w in words:\n",
        "    e = ??????????????????\n",
        "    h = _activation(W.dot(e) + U.dot(h) + b)\n",
        "  return h\n",
        "```\n",
        "【解答】  \n",
        "変数wordsはone-hotベクトルを要素とする配列だから，ループの変数wはone-hotベクトルである．seq2seqのエンコーダでは活性化関数に通す前にembedding表現にする処理が入るのでembedding行列Eとwの演算でembed_sizeの要素数の配列を作る必要がある．  \n",
        "E:(embed_size, vocab_size) と　w:(vocab_size,)の演算で(embed_size)となるものは\n",
        "```python\n",
        "E.dot(w)\n",
        "```\n",
        "内積の演算よりも\n",
        "```python\n",
        "E[:, argmax(w)]\n",
        "```\n",
        "の方が計算量が少ないか？"
      ],
      "metadata": {
        "id": "mzmUpDbDbBs4"
      }
    },
    {
      "cell_type": "markdown",
      "source": [
        "+ HRED  \n",
        "seq2seqは入力に対して1つの応答しか生成できない  \n",
        "⇒今までの文脈から応答にバリエーションをつけたい\n",
        "  + 文の意味ベクトルを入力とするRNN構造⇒seq2seq+contextRNN\n",
        "  + ありがちな解答しかできない\n",
        "+ VHRED\n",
        "  + HREDにバリエーション加える手法\n",
        "+ オートエンコーダ\n",
        "  + 教師なし学習の一種\n",
        "  + エンコーダで変換しデコーダで復元\n",
        "  + 次元削減が可能\n",
        "+ VAE(Variational Auto Encoder)\n",
        "  + 次元圧縮の際に確率を持ち込む\n",
        "  + ガウス分布ノイズを付加"
      ],
      "metadata": {
        "id": "sc9kaLCocE7z"
      }
    },
    {
      "cell_type": "markdown",
      "source": [
        "【参考文献】\n",
        "1. 斎藤康毅著『セロから作るDeepLearning2 自然言語処理編』オライリー・ジャパン 2018.07\n",
        "2. 巣籠悠輔著『詳解ディープラーニング 第2版』マイナビ出版 2019.11\n",
        "3. Aurélien Géron著、長尾 訳『scikit-learnとTensorFlowによる実践機械学習』オライリー・ジャパン 2018.04"
      ],
      "metadata": {
        "id": "CnDoIh2Lh9O8"
      }
    },
    {
      "cell_type": "markdown",
      "metadata": {
        "id": "R-zel3TY7_V7"
      },
      "source": [
        "## Section6: Word2vec\n",
        "+ 単語をベクトル表現に変換する手法\n",
        "+ one-hotベクトルからembedding表現使い意味の近いベクトルに変換（次元削減）\n",
        "+ この変換表を機械学習で学習させる"
      ]
    },
    {
      "cell_type": "markdown",
      "metadata": {
        "id": "Y_tvwKEp8D3D"
      },
      "source": [
        "## Section7: Attention Mechanism\n",
        "+ seq2seqは長い文章に対応できない\n",
        "  + 単語数が大きく違っていても中間層で生成する意味ベクトルの大きさは同じ\n",
        "+ 文の中で重要な単語を学習できる⇒意味ベクトルに重要単語の影響度が高まる"
      ]
    },
    {
      "cell_type": "markdown",
      "source": [
        "### 【確認テスト】\n",
        "RNNとword2vec、seq2seqとAttentionの違いを簡潔に述べよ。  \n",
        "【解答】  \n",
        "RNN：時系列データを学習するニューラルネットワークモデル  \n",
        "word2vec：文を単語に分割して文の意味の類似性を表現できるベクトルに変換  \n",
        "seq2seq：ある時系列データから別の時系列データを生成する方法  \n",
        "attention：文章において重要単語を強調して学習できる手法"
      ],
      "metadata": {
        "id": "4R2suJI2ze5C"
      }
    },
    {
      "cell_type": "markdown",
      "source": [
        "### 【確認テスト】\n",
        "seq2seqとHRED、HREDとVHREDの違いを簡潔に述べよ。  \n",
        "【解答】  \n",
        "seq2seq：時系列データから別の時系列データを生成する方法  \n",
        "HRED：seq2seqとコンテキストの時系列データの学習を合わせてバリエーションのある結果を生成しようとした  \n",
        "VHRED：HREDにVAEの手法と取り入れることで生成に確率的な要素が加味され出力に幅ができるようになった\n"
      ],
      "metadata": {
        "id": "yK1Mz2aX08No"
      }
    }
  ]
}