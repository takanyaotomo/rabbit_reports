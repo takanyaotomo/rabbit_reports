{
  "nbformat": 4,
  "nbformat_minor": 0,
  "metadata": {
    "colab": {
      "name": "機械学習.ipynb",
      "provenance": [],
      "collapsed_sections": [],
      "authorship_tag": "ABX9TyOYWNfmnuHwoz+PLVcAB/2W"
    },
    "kernelspec": {
      "name": "python3",
      "display_name": "Python 3"
    },
    "language_info": {
      "name": "python"
    }
  },
  "cells": [
    {
      "cell_type": "code",
      "metadata": {
        "id": "WbOC0tqT7V2R"
      },
      "source": [
        ""
      ],
      "execution_count": null,
      "outputs": []
    },
    {
      "cell_type": "markdown",
      "metadata": {
        "id": "Bm-5nz7M7ebJ"
      },
      "source": [
        "### k-近傍法\n",
        "+ 教師あり学習\n",
        "+ 学習データにおいて，入力データの最近傍k個のデータの最も多く所属するクラスに分類\n",
        " - 同じ学習データであってもkの値によって分類されるクラスが変化することもある\n",
        "+ 学習データと入力データとの距離計算\n",
        " - 分枝法\n",
        "    - 学習データを木構造のクラスタを作成．\n",
        "    - 各ノードにはノード以下全体の平均ベクトルと平均ベクトルからの最大距離を属性を保持\n",
        "  - 限定法\n",
        "    - 分枝法を利用する\n",
        "    - 木構造から最も近いクラスタを探索\n",
        "\n",
        "【参考文献】\n",
        "1. はじめてのパターン認識\n",
        "\n",
        "  https://www.slideshare.net/moa108/5-kknn"
      ]
    },
    {
      "cell_type": "code",
      "metadata": {
        "id": "4mVkRiFwu3G7"
      },
      "source": [
        "import numpy as np\n",
        "import matplotlib.pyplot as plt\n",
        "from scipy import stats"
      ],
      "execution_count": null,
      "outputs": []
    },
    {
      "cell_type": "code",
      "metadata": {
        "id": "XIpowtRszVl4"
      },
      "source": [
        "def gen_data():\n",
        "    x0 = np.random.normal(size=50).reshape(-1, 2) - 1 # 50サンプルを正規分布で生成し，25*2の配列に変換後-1．分布の平均を0から-1にしたのと同じ\n",
        "    x1 = np.random.normal(size=50).reshape(-1, 2) + 1. # 50サンプルを正規分布で生成し，25*2の配列に変換後+1．分布の平均を0から1にしたのと同じ\n",
        "    x_train = np.concatenate([x0, x1]) # concatenate:配列の結合．2つの2次元配列を縦に結合，50*2の配列\n",
        "    y_train = np.concatenate([np.zeros(25), np.ones(25)]).astype(np.int)\n",
        "    return x_train, y_train"
      ],
      "execution_count": null,
      "outputs": []
    },
    {
      "cell_type": "code",
      "metadata": {
        "colab": {
          "base_uri": "https://localhost:8080/",
          "height": 282
        },
        "id": "HkosoMwpze_2",
        "outputId": "bf7ae2dc-70c3-4071-ff4d-b19e49626ff0"
      },
      "source": [
        "X_train, ys_train = gen_data()\n",
        "plt.scatter(X_train[:, 0], X_train[:, 1], c=ys_train)"
      ],
      "execution_count": null,
      "outputs": [
        {
          "output_type": "execute_result",
          "data": {
            "text/plain": [
              "<matplotlib.collections.PathCollection at 0x7fc8e4b3d590>"
            ]
          },
          "metadata": {
            "tags": []
          },
          "execution_count": 10
        },
        {
          "output_type": "display_data",
          "data": {
            "image/png": "[encoded data removed]",
            "text/plain": [
              "<Figure size 432x288 with 1 Axes>"
            ]
          },
          "metadata": {
            "tags": [],
            "needs_background": "light"
          }
        }
      ]
    },
    {
      "cell_type": "code",
      "metadata": {
        "colab": {
          "base_uri": "https://localhost:8080/",
          "height": 282
        },
        "id": "HkoDXNS8zgEW",
        "outputId": "2f4fddaf-88da-4140-c518-351aa2a92b96"
      },
      "source": [
        "X_train, ys_train = gen_data()\n",
        "plt.scatter(X_train[:, 0], X_train[:, 1], c=ys_train)"
      ],
      "execution_count": null,
      "outputs": [
        {
          "output_type": "execute_result",
          "data": {
            "text/plain": [
              "<matplotlib.collections.PathCollection at 0x7fc8e4aa79d0>"
            ]
          },
          "metadata": {
            "tags": []
          },
          "execution_count": 12
        },
        {
          "output_type": "display_data",
          "data": {
            "image/png": "[encoded data removed]",
            "text/plain": [
              "<Figure size 432x288 with 1 Axes>"
            ]
          },
          "metadata": {
            "tags": [],
            "needs_background": "light"
          }
        }
      ]
    },
    {
      "cell_type": "code",
      "metadata": {
        "colab": {
          "base_uri": "https://localhost:8080/"
        },
        "id": "wHMCcywoz_Bm",
        "outputId": "a6fa25d0-2815-494d-d345-464fd756b356"
      },
      "source": [
        "ys_train"
      ],
      "execution_count": null,
      "outputs": [
        {
          "output_type": "execute_result",
          "data": {
            "text/plain": [
              "array([0, 0, 0, 0, 0, 0, 0, 0, 0, 0, 0, 0, 0, 0, 0, 0, 0, 0, 0, 0, 0, 0,\n",
              "       0, 0, 0, 1, 1, 1, 1, 1, 1, 1, 1, 1, 1, 1, 1, 1, 1, 1, 1, 1, 1, 1,\n",
              "       1, 1, 1, 1, 1, 1])"
            ]
          },
          "metadata": {
            "tags": []
          },
          "execution_count": 6
        }
      ]
    },
    {
      "cell_type": "code",
      "metadata": {
        "id": "dHy_fa3s0-rn"
      },
      "source": [
        ""
      ],
      "execution_count": null,
      "outputs": []
    }
  ]
}